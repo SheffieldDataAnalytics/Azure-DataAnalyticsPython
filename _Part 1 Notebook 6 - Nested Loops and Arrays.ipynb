{
 "cells": [
  {
   "cell_type": "markdown",
   "metadata": {},
   "source": [
    "<b><font size =\"6\">Nested loops and arrays</font></b>\n",
    "<br><br>\n",
    "\n",
    "<b><font size =\"5\">Exercises 6: Sorting & Image Processing</font></b>\n",
    "\n",
    "We have seen how lists and arrays can be used to hold *sequences* of values, and how we can use *loops* to operate over them. In this notebook, we will look at the fact that one loop can contain another loop (nested loops). In this case, the **inner**, inner_vals, **loop** runs to completion for each iteration of outer loop. "
   ]
  },
  {
   "cell_type": "code",
   "execution_count": null,
   "metadata": {
    "collapsed": false
   },
   "outputs": [],
   "source": [
    "outer_vals = [1, 2, 3]\n",
    "inner_vals = ['A', 'B', 'C']\n",
    "for oval in outer_vals:\n",
    "    for ival in inner_vals:\n",
    "        print (oval, ival)"
   ]
  },
  {
   "cell_type": "markdown",
   "metadata": {},
   "source": [
    "The following cell contains the code to print a simple multiplication table. The inner loop generates a single row of the table, while the outer loop causes multiple rows to be printed."
   ]
  },
  {
   "cell_type": "code",
   "execution_count": null,
   "metadata": {
    "collapsed": false
   },
   "outputs": [],
   "source": [
    "for i in range(1,7):\n",
    "    for j in range(1,11):\n",
    "        print ('%3d' % (i * j), end = \" \")\n",
    "    print()"
   ]
  },
  {
   "cell_type": "markdown",
   "metadata": {},
   "source": [
    "Nested loops have many uses, for example, *sorting* values into order. We will start with implementing some sorting algorithms, and then look at using *multidimensional* arrays of values, and the use of *nested loops* to operate over them. More specifically, we use multidimensional arrays to represent *images*, and use nested loops to perform image processing operations.\n",
    "\n",
    "<b><font size=\"5\">1) Sorting arrays</font></b>\n",
    "\n",
    "Bubble sort passes over a list carrying the highest value seen so far to the end of the list, then moves onto the second highest value and so on. I.e. it moves along a list comparing adjacent values and swaps them if they are out of order. In this way, it is similar to a small window ('bubble') being moved along the list -- it compares the values within the window and swaps if needed\n",
    "\n",
    "<img src=\"files/bubble2_2.png\">\n",
    "\n",
    "For example, if we are sorting the list [4, 3, 6, 5, 2, 1], the bubble passes over the list\n",
    "\n",
    "<img src=\"files/bubble3_9.png\">\n",
    "\n",
    "As the bubble moves, the highest value seen so far is carried along. At end of pass, the list not yet in order but the highest value has been moved to its final position (its correct place).\n",
    "\n",
    "Pass bubble over for the *second time*: the second highest value will be carried along to its correct position.\n",
    "\n",
    "After *N* passes (where *N* = length of list), all values are carried to correct position and the list is now *sorted*.\n",
    "\n",
    "To do a first pass of the bubble:"
   ]
  },
  {
   "cell_type": "code",
   "execution_count": null,
   "metadata": {
    "collapsed": false
   },
   "outputs": [],
   "source": [
    "values = [4, 3, 6, 5, 2, 1]\n",
    "N = len(values)\n",
    "\n",
    "for i in range(N-1):\n",
    "    if values[i] > values[i+1]:\n",
    "        tmp = values[i]\n",
    "        values[i] = values[i+1]\n",
    "        values[i+1] = tmp\n",
    "        \n",
    "print(values)"
   ]
  },
  {
   "cell_type": "markdown",
   "metadata": {},
   "source": [
    "Why does *i* range up to $N-1$ rather than $N$? (Try it!)\n",
    "\n",
    "Single pass of the bubble must be repeated over, until the list is sorted. To repeat the 'bubble loop', nest it within another."
   ]
  },
  {
   "cell_type": "code",
   "execution_count": null,
   "metadata": {
    "collapsed": false
   },
   "outputs": [],
   "source": [
    "values = [4, 3, 6, 5, 2, 1]\n",
    "N = len(values)\n",
    "\n",
    "for j in range(N):\n",
    "    for i in range(N-1):\n",
    "        if values[i] > values[i+1]:\n",
    "            tmp = values[i]\n",
    "            values[i] = values[i+1]\n",
    "            values[i+1] = tmp\n",
    "            \n",
    "print(values)"
   ]
  },
  {
   "cell_type": "markdown",
   "metadata": {},
   "source": [
    "This does work, but we can improve it by avoiding some unnecessary work. We only need to run the outer loop $N-1$ times as once $N-1$ items are correctly in place, the final one also has to be. After $j$ runs of the inner loop, $j$ final items are correct, so bubble sort can stop its pass earlier as there's no need to look at these items."
   ]
  },
  {
   "cell_type": "code",
   "execution_count": null,
   "metadata": {
    "collapsed": false
   },
   "outputs": [],
   "source": [
    "values = [4, 3, 6, 5, 2, 1]\n",
    "N = len(values)\n",
    "\n",
    "for j in range(N-1):\n",
    "    for i in range(N-1-j):\n",
    "        if values[i] > values[i+1]:\n",
    "            tmp = values[i]\n",
    "            values[i] = values[i+1]\n",
    "            values[i+1] = tmp\n",
    "            \n",
    "print(values)"
   ]
  },
  {
   "cell_type": "markdown",
   "metadata": {},
   "source": [
    "Let's do another implementation, this time we start with a function in_order checking if a list is ordered."
   ]
  },
  {
   "cell_type": "code",
   "execution_count": null,
   "metadata": {
    "collapsed": true
   },
   "outputs": [],
   "source": [
    "# Implement the in_order function, which returns True if the list is ordered, False otherwise\n",
    "\n",
    "def in_order(x):\n",
    "    return"
   ]
  },
  {
   "cell_type": "markdown",
   "metadata": {},
   "source": [
    "Next, this function is used in combination with a while loop to implement bubble sort."
   ]
  },
  {
   "cell_type": "code",
   "execution_count": null,
   "metadata": {
    "collapsed": true
   },
   "outputs": [],
   "source": [
    "# Implement bubble sort using a while loop"
   ]
  },
  {
   "cell_type": "markdown",
   "metadata": {},
   "source": [
    "Bubble sort can be implemented efficiently using two for loops if you think about the maximum values of the for loops."
   ]
  },
  {
   "cell_type": "code",
   "execution_count": null,
   "metadata": {
    "collapsed": true
   },
   "outputs": [],
   "source": [
    "# Implement bubble sort using two for loops"
   ]
  },
  {
   "cell_type": "markdown",
   "metadata": {},
   "source": [
    "** Pylab numeric arrays **\n",
    "\n",
    "*pylab* provides a special data type of numeric arrays for efficient storage of numeric data, especially large matrices. It is good for memory efficient, fast matrix operations.\n",
    "\n",
    "You can use the **zeros** function to create array of specified size with values initialized to zero:"
   ]
  },
  {
   "cell_type": "code",
   "execution_count": null,
   "metadata": {
    "collapsed": false
   },
   "outputs": [],
   "source": [
    "import pylab as pl\n",
    "pl.zeros(5)"
   ]
  },
  {
   "cell_type": "markdown",
   "metadata": {},
   "source": [
    "The **arange** function creates an array initialised with sequence of values, it allows\n",
    "non-integer step value (which the standard *range* function does not):"
   ]
  },
  {
   "cell_type": "code",
   "execution_count": null,
   "metadata": {
    "collapsed": false
   },
   "outputs": [],
   "source": [
    "pl.arange(0,2,0.3)"
   ]
  },
  {
   "cell_type": "markdown",
   "metadata": {},
   "source": [
    "*pylab* can also create **multi-dimensional** arrays:"
   ]
  },
  {
   "cell_type": "code",
   "execution_count": null,
   "metadata": {
    "collapsed": false
   },
   "outputs": [],
   "source": [
    "# 2D array with dimensions (3,5)\n",
    "pl.zeros((3,5))"
   ]
  },
  {
   "cell_type": "markdown",
   "metadata": {},
   "source": [
    "Such arrays have a **shape** attribute which reports the dimensions of the array:"
   ]
  },
  {
   "cell_type": "code",
   "execution_count": null,
   "metadata": {
    "collapsed": true
   },
   "outputs": [],
   "source": [
    "x = pl.zeros((3,5))\n",
    "x.shape"
   ]
  },
  {
   "cell_type": "markdown",
   "metadata": {},
   "source": [
    "Can use nested loops to address the elements of a 2D array e.g. 3x5 array:"
   ]
  },
  {
   "cell_type": "code",
   "execution_count": null,
   "metadata": {
    "collapsed": false
   },
   "outputs": [],
   "source": [
    "xx = pl.zeros((3,5))\n",
    "\n",
    "val = 0\n",
    "for row in range(3):\n",
    "    for col in range(5):\n",
    "        val = val + 0.01\n",
    "        xx[row][col] = val\n",
    "\n",
    "xx"
   ]
  },
  {
   "cell_type": "markdown",
   "metadata": {},
   "source": [
    "So in general we can:\n",
    "- use shape attribute to access dimensions of arrray\n",
    "- use these values to specify the nested loops"
   ]
  },
  {
   "cell_type": "code",
   "execution_count": null,
   "metadata": {
    "collapsed": false
   },
   "outputs": [],
   "source": [
    "val = 0\n",
    "(d1,d2) = xx.shape\n",
    "\n",
    "for row in range(d1):\n",
    "    for col in range(d2):\n",
    "        val = val + 0.01\n",
    "        xx[row][col] = val\n",
    "        \n",
    "xx"
   ]
  },
  {
   "cell_type": "markdown",
   "metadata": {},
   "source": [
    "<b><font size =\"5\">2) Images represented as numeric arrays</font></b>\n",
    "\n",
    "<b><font size =\"4\">I) Black-and-white images as 2D arrays</font></b>\n",
    "\n",
    "A 'black-and-white' or *greyscale* image, such as that below left, consists of a 2D *grid* of **pixels**, or *basic image units*. This image consists of a grid of 65 X 134 such pixels. If we expand the image area with the word \"Of\", as below centre, we can see the pixels as separate patches of light or dark, and this is clearer still if we impose a grid of lines between the pixels:\n",
    "\n",
    "   <table border=\"1\" style=\"width:auto\">\n",
    "      <tr>\n",
    "        <td><img src =\"images/UoSgrey.png\" height=\"200\" width=\"200\">\n",
    "        </td>\n",
    "        <td>\n",
    "        <img src =\"images/UoS_OF.png\" height=\"200\" width=\"200\">\n",
    "        </td>\n",
    "        <td>\n",
    "        <img src =\"images/UoS_OF_grid.png\" height=\"200\" width=\"200\">\n",
    "        </td>\n",
    "     </tr>\n",
    "   </table>\n",
    "   \n",
    "For greyscale images, each pixel can be represented using a single *intensity* value, e.g. we can use a scale 0.0 to 1.0, with a value 0.0 giving a fully black pixel, and 1.0 a fully white one. The intensity values of a greyscale image can be very naturally be stored within a 2D numeric array of the kind provided by the **pylab** module.\n",
    "\n",
    "In this case, each array element represents the brightness or colour of a pixel e.g. for the image above, an array with 65 rows and 134 columns:\n",
    "\n",
    "- each element is a number between 0.0 and 1.0, giving the intensity (i.e.  brightness) of the pixel on a greyscale\n",
    "\n",
    "- for a colour image, element might itself be a triple, recording separate brightness values for RGB (red, green, blue) components. Then, the *2D array of pixels* is stored as a *3D array of numeric values*\n",
    "\n",
    "<b><font size =\"4\">II) Colour images as 3D arrays</font></b>\n",
    "\n",
    "Colour images are also 2D grids of pixels, but require *colour* information for each pixel. In the RGB approach (see **http://en.wikipedia.org/wiki/RGB** color model), each pixel has separate intensity values for the *primary* colours *red*, *green* and *blue* (which combine to give the other colours). This data is naturally stored in a 3D array of size *d1 \\* d2 \\* 3*, where *d1/d2* are the image pixel dimensions, and where the lowest level triple stores the RGB values of a single pixel.\n",
    "\n",
    "**pylab** can read image files, and load the intensity values into arrays of precisely this form. Run the following cell to display the image *chick.png*:"
   ]
  },
  {
   "cell_type": "code",
   "execution_count": null,
   "metadata": {
    "collapsed": false
   },
   "outputs": [],
   "source": [
    "%matplotlib inline\n",
    "\n",
    "import pylab as pyl\n",
    "img = pyl.imread('images/chick.png')\n",
    "pyl.imshow(img)\n",
    "pyl.show()"
   ]
  },
  {
   "cell_type": "markdown",
   "metadata": {},
   "source": [
    "The command **imread** reads the image, and returns a 3D numeric array of its intensity values, which is assigned to the variable **img**. Having run the code, you can check the value of **img** by typing *img* in a cell and run it. It will print something of its value, although it is too big to print fully. We can get the dimensions of the array by checking its **\".shape\"** attribute, as in the following. We can even assign the three values to a triple of variables, as shown."
   ]
  },
  {
   "cell_type": "code",
   "execution_count": null,
   "metadata": {
    "collapsed": false
   },
   "outputs": [],
   "source": [
    "print (img, \"\\n\")\n",
    "\n",
    "print (img.shape, \"\\n\")\n",
    "\n",
    "(d1,d2,d3) = img.shape\n",
    "print (d2)"
   ]
  },
  {
   "cell_type": "markdown",
   "metadata": {},
   "source": [
    "As shown below, we can use a triple of indices to access a single intensity value in the array, or we can use just only *two indices* to reach in to access the *triple* of RGB values for a *single pixel*."
   ]
  },
  {
   "cell_type": "code",
   "execution_count": null,
   "metadata": {
    "collapsed": false
   },
   "outputs": [],
   "source": [
    "print (img[0,0,0], \"\\n\")\n",
    "\n",
    "img[0,0]"
   ]
  },
  {
   "cell_type": "markdown",
   "metadata": {},
   "source": [
    "There are two alternative ways that we can address this representation to modify the image: \n",
    "\n",
    "<b>Method 1 (addressing individual intensities):</b>\n",
    "\n",
    "First, we can use a <u>*three-level*</u> nested loop, giving access to *individual* intensity values in the 3D array, as in the following example, which 'flips' low intensities to high ones, and vice versa, producing a rather ghostly effect (try it yourself, to see the effect):"
   ]
  },
  {
   "cell_type": "code",
   "execution_count": null,
   "metadata": {
    "collapsed": false
   },
   "outputs": [],
   "source": [
    "# PS: We promise this chick will not haunt your dreams at night\n",
    "\n",
    "(d1,d2,d3) = img.shape\n",
    "for i in range(d1):\n",
    "    for j in range(d2):\n",
    "        for k in range(d3):\n",
    "            img[i,j,k] = 1 - img[i,j,k] # DO SOMETHING TO INDIVIDUAL INTENSITY VALUE\n",
    "            \n",
    "pyl.imshow(img)\n",
    "pyl.show()"
   ]
  },
  {
   "cell_type": "markdown",
   "metadata": {},
   "source": [
    "<b>Method 2 (addressing pixel triples):</b>\n",
    "\n",
    "Alternatively, we can use a <u>*two-level*</u> nested loop, to give us access to the value triples of *pixels*, and make a change that affects the entire pixel in *one step*, as in the following example. \n",
    "\n",
    "Here, **\"img[i,j]\"** reaches in through two levels of the 3D array to access the *triple* of values of the *pixel* at grid position (i,j). The conditional checks if the three values *sum* to less than 1.5 (in other words, whether their *average* is less than 0.5, the *middle* intensity value). If so, the three values of the pixel are over-written with a *triple of zeros*, in a single assignment step, i.e. the pixel is changed to be black."
   ]
  },
  {
   "cell_type": "code",
   "execution_count": null,
   "metadata": {
    "collapsed": false
   },
   "outputs": [],
   "source": [
    "(d1,d2,d3) = img.shape\n",
    "for i in range(d1):\n",
    "    for j in range(d2):\n",
    "        pixel = img[i,j]\n",
    "        if sum(pixel) < 1.5:\n",
    "            img[i,j] = (.0, .0, .0) # DO SOMETHING TO CHANGE PIXEL VALUES IN ONE STEP\n",
    "            \n",
    "pyl.imshow(img)\n",
    "pyl.show()"
   ]
  },
  {
   "cell_type": "markdown",
   "metadata": {},
   "source": [
    "<b><font size =\"5\">2) Che, Cool Che, and Funky Che</font></b>\n",
    "\n",
    "We have seen enough for you to be able to write your own code performing some image manipulations. Now, write some code to load and display the image **che.png**, which is based on the earlier example for the *chick* image. This image is the original black-and-white photograph of the famous Argentinian revolutionary *Che Guevara* from which the ubiquitous *pop-art* images are derived.\n",
    "\n",
    "Although the image is greyscale, you'll find that it is stored just like the chick image, i.e. with pixels encoded as triples of RGB values (to see this, check its **shape** attribute). For greyscale images stored this way, however, the three components have the *same value*, i.e. as when no colour dominates, the effect produced is in <u>*shades of grey*</u>. Thus, a triple **(1.0,1.0,1.0)** produces a *white pixel*, **(0.0,0.0,0.0)** a *black pixel*, and **(0.5,0.5,0.5)** a *mid-grey pixel*.\n",
    "\n",
    "<u>**Task**</u>: Extend your code so that it modifies the image (or a copy of it) to produce the various image effects described below. (**Note**: You can copy an array using the **array** function, e.g. as in **\"img1 = array(img)\"**, so you can then modify **img1** without altering **img**.)\n",
    "\n",
    "Each image effect requires you to write some code with nested loops, to traverse the image array and modify intensity values according to various rules, as exemplified in the previous section. Some specific suggestions for image effects follow, but you can think up some more of your own. In each case, consider whether the task is best handled as an instance of **Method 1** above, the simpler method that addresses/modifies only individual intensity values, or if the more complicated **Method 2** is needed, to evaluate and replace entire pixels in one step.\n",
    "<ol>\n",
    "   <li>The classic *Che* poster image has a *strongly monochrome* effect, i.e. dividing into areas that are solid black and solid white (or with some other colour in place of white). You can achieve this effect by applying the following simply rule to individual intensity values (Method 1): all values below 0.5 are modified 0.0, and all others to 1.0. Try this out.</li>\n",
    "    <br>\n",
    "    <li>As a variant of the previous case, change the image to be solidly black and *red*. This idea is most naturally implemented by a method working at the level of pixel triples (Method 2). You can use **(1.0,0.0,0.0)** for a strongly red pixel.</li>\n",
    "    <br>\n",
    "    <li>As another variant of the above, produce a version with black areas as above, solid white for Che's face, and all other areas as red, again, a classic version of the poster. **Hint:** You can see after running the previous cells that each time the chick image is displayed, on the edge it contains marks at every 10 pixels. You can use these numbers to approximate where does Che's face end and where the other areas start.</li>\n",
    "    <br>\n",
    "    <li>For a rather more funky effect, you could try the following: change any pixel with intensity value above 0.66 to be strongly red, any below 0.33 strongly blue, and the remainder green. Again, this is most easily handled as an instance of Method 2.</li>\n",
    "    <br>\n",
    "    <li>For a slightly more challenging task, copy the chick image to *overlay* the Che image. Since the chick image is *smaller* than the Che image, we can simply traverse the chick image and assign each of its pixels to the corresponding location in the Che image. Where in the larger picture does the chick appear, and why? Next consider how to make the chick appear elsewhere on the Che image, e.g. can you make it appear where Che's face should be?</li>\n",
    "\n",
    "</ol>"
   ]
  },
  {
   "cell_type": "code",
   "execution_count": null,
   "metadata": {
    "collapsed": true
   },
   "outputs": [],
   "source": [
    "# Insert your code here. The image is found in the images folder\n",
    "# Can use different cells for each task or a single cell for all and use the subplot function to plot them all into one figure"
   ]
  }
 ],
 "metadata": {
  "kernelspec": {
   "display_name": "Python 3",
   "language": "python",
   "name": "python3"
  },
  "language_info": {
   "codemirror_mode": {
    "name": "ipython",
    "version": 3
   },
   "file_extension": ".py",
   "mimetype": "text/x-python",
   "name": "python",
   "nbconvert_exporter": "python",
   "pygments_lexer": "ipython3",
   "version": "3.5.1"
  }
 },
 "nbformat": 4,
 "nbformat_minor": 0
}
