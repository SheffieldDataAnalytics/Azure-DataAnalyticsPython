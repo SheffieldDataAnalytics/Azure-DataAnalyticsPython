{
 "cells": [
  {
   "cell_type": "markdown",
   "metadata": {},
   "source": [
    "<b><font size =\"6\">Print formatting; file input and output</font></b>"
   ]
  },
  {
   "cell_type": "markdown",
   "metadata": {},
   "source": [
    "<b><font size =\"5\">Exercises 5: Loops and Lists continued - further data analysis</font></b>\n",
    "\n",
    "** Printing **\n",
    "\n",
    "Print formatting in Python builds on the *for*-loops and simple file input introduced in notebook 4 (you may want to review these). For printing, we usually use the Python **print()** command\n",
    "\n",
    "    print (<exp1>, ..., <expn>)\n",
    "    \n",
    "which prints expressions on one line, adding a space in between. It then outputs a *newline* (or linebreak) unless you use the argument\n",
    "\n",
    "    end = \"\"\n",
    "\n",
    "You can add any character between the quotes (white space, comma, dot, alphanumeric characters etc). By default, *print* prints to standard output stream which has the name\n",
    "**sys.stdout**. You can write to another stream with\n",
    "\n",
    "    file = <variable-name>\n",
    "\n",
    "Such as\n",
    "\n",
    "    out = open('outputfile.txt','w')\n",
    "    print ('some output string', file = out)\n",
    "    \n",
    "You need *string interpolation* to produce nicely formatted output, such as tidily aligned lists of numbers. This is carried out using the \"%\" operator. This has multiple uses, we've already seen it used to perform the modulo function with numbers (i.e. giving the remainder after whole number division e.g. 9 % 4 gives 1, 12 % 5 gives 2), but with strings, \"%\" performs string interpolation. **Interpolation** in this case roughly means filling in the gaps. It consists of a string on the left hand side specifying the conversion specs, such as \n",
    "\n",
    "    form = 'Does %s like %s ??'\n",
    "    \n",
    "where \"%s\" means insert something here, specifically a string. We also need to specify a tuple of values for insertion, one for each spec:"
   ]
  },
  {
   "cell_type": "code",
   "execution_count": null,
   "metadata": {
    "collapsed": false
   },
   "outputs": [],
   "source": [
    "form = 'Does %s like %s ??'\n",
    "form % ('Bill','eggs')"
   ]
  },
  {
   "cell_type": "markdown",
   "metadata": {},
   "source": [
    "\"%s\" is not the only conversion spec. Other options include \"%d\" and \"%f\". \"%d\" is used for integers and can be used to give an item a width of at least N characters, pad with spaces on the left etc. It can be used to print aligned columns of integers."
   ]
  },
  {
   "cell_type": "code",
   "execution_count": null,
   "metadata": {
    "collapsed": false
   },
   "outputs": [],
   "source": [
    "x = [7, 344, 12]\n",
    "for i in x:\n",
    "    print ('|%5d|' % (i))"
   ]
  },
  {
   "cell_type": "markdown",
   "metadata": {},
   "source": [
    "\"%f\" is used for floats. In the form \n",
    "\n",
    "    %N:Mf\n",
    "\n",
    "*M* gives the precision i.e. number of places printed after decimal point. Python will truncate, or pad with zeros, to get this many places, and it will round place up, e.g.  0.6666 to 0.67. *N* gives (min) overall width (width includes decimal point and places after)."
   ]
  },
  {
   "cell_type": "code",
   "execution_count": null,
   "metadata": {
    "collapsed": false
   },
   "outputs": [],
   "source": [
    "x = [7.66666, 343.2, 11.12]\n",
    "for i in x:\n",
    "    print ('|%10.3f|' % (i))"
   ]
  },
  {
   "cell_type": "markdown",
   "metadata": {},
   "source": [
    "Can you follow the formatting in the following example?"
   ]
  },
  {
   "cell_type": "code",
   "execution_count": null,
   "metadata": {
    "collapsed": false
   },
   "outputs": [],
   "source": [
    "densities = [('aluminium', 2.70), ('gold', 19.3), ('magnesium', 1.738)]\n",
    "for (metal,density) in densities:\n",
    "    print ('%10s has density %5.2f grams cubic cm' % (metal, density))\n",
    "for (metal,density) in densities:\n",
    "    print ('the metal with density %5.2f g/cc is %s' % (density, metal))"
   ]
  },
  {
   "cell_type": "markdown",
   "metadata": {},
   "source": [
    "** File Input / Output **\n",
    "\n",
    "A connection to a named file, for reading or writing, can be opened using\n",
    "\n",
    "    open(<filename>,<mode>)\n",
    "\n",
    "This creates and returns a file object which stores connection information\n",
    "\n",
    "    f = open('foo.txt','r')  # read only\n",
    "    f = open('foo.txt','w')  # write only\n",
    "    f = open('foo.txt','a')  # append only\n",
    "\n",
    "The default mode is 'r', i.e. if you call \n",
    "\n",
    "    f = open('foo.txt')\n",
    "\n",
    "it will be open in read only mode. There are two options for mode 'w':\n",
    "\n",
    "- if the file did not exist, it is newly created as an empty file\n",
    "- if it did exit, then it is overwritten (so you now have an empty file)\n",
    "\n",
    "Depending on the mode of opening, file objects have various methods available\n",
    "\n",
    "    f.readline()   # read line from file\n",
    "    f.read()       # careful: may swallow big file in one!\n",
    "    f.write(s)     # write string s to file\n",
    "    f.close()      # close file\n",
    "    \n",
    "By default, the standard print command prints to the *standard output stream* (a.k.a.) **stdout**. In Python, this is a special stream called sys.stdout. We can also direct output of print to a file object:\n",
    "\n",
    "    f = open('foo.txt','w')\n",
    "    print ('Hello world', file = f)\n",
    "    \n",
    "We saw in notebook 4 that we can use a simple **for** loop to read lines of text from a file \n",
    "\n",
    "    f = open('foo.txt','r')\n",
    "    for line in f:\n",
    "    print (line, end = \"\")\n",
    "\n",
    "With each iteration of the *for*-loop, the loop variable (line) is assigned the next line of text from the file. This is a clean and readable way to code reading from a file and this approach is recommended as being preferable to alternatives (e.g. f.readlines()) unless a more complicated approach is required by the task.\n",
    "\n",
    "How does the following cell change the input file? Change the content so the output is produced to screen."
   ]
  },
  {
   "cell_type": "code",
   "execution_count": null,
   "metadata": {
    "collapsed": false
   },
   "outputs": [],
   "source": [
    "inf = open('files/rhyme.txt','r')      # open input file\n",
    "out = open('files/new.txt','w')         # open output file\n",
    "num=0\n",
    "\n",
    "for line in inf:           # read input file, line by line\n",
    "    num = num + 1\n",
    "    print ('[%d] %s' % (num,line), end = \"\", file=out) # print num/line out\n",
    "\n",
    "inf.close()                          # close input file stream\n",
    "out.close()                          # close output file stre"
   ]
  },
  {
   "cell_type": "markdown",
   "metadata": {},
   "source": [
    "Filestreams often handled using a\n",
    "\n",
    "    with ... as ...\n",
    "\n",
    "construct. This executes the open command and assigns to a variable. The filestream automatically closes when the code block exits."
   ]
  },
  {
   "cell_type": "code",
   "execution_count": null,
   "metadata": {
    "collapsed": false
   },
   "outputs": [],
   "source": [
    "import sys\n",
    "with open(\"files/rhyme.txt\",'r') as infile:\n",
    "    num = 0\n",
    "    for line in infile:\n",
    "        num += 1\n",
    "        print (num, line, end = \"\")"
   ]
  },
  {
   "cell_type": "markdown",
   "metadata": {},
   "source": [
    "The standard input, output and error streams are available from the **sys module** as *sys.stdin*, *sys.stdout* and *sys.stderr*. We must first\n",
    "\n",
    "    import sys\n",
    "\n",
    "Streams have similar methods to file objects, e.g. you can write string *s* to error stream with:\n",
    "\n",
    "    sys.stderr.write(s)\n",
    "\n",
    "We can direct the output of print a statement to (e.g.) the error stream\n",
    "\n",
    "    print ('Hello World!', file = sys.stderr)\n",
    "\n",
    "or, as shown above, to a file (object)"
   ]
  },
  {
   "cell_type": "code",
   "execution_count": null,
   "metadata": {
    "collapsed": true
   },
   "outputs": [],
   "source": [
    "f = open('file/new.txt','w')\n",
    "print ('Hello World!', file = f)"
   ]
  },
  {
   "cell_type": "markdown",
   "metadata": {},
   "source": [
    "### Exercises ###\n",
    "\n",
    "In this notebook, we will tackle a different data analysis task, with a view to firming up the programming skills we've acquired so far. The first task involves analysing some data so that this can be usefully plotted, as we have done before. This time, however, our aim is to plot a histogram of the data, which requires that we group values together into *bins*. \n",
    "\n",
    "Along the way, we'll gain further practice at using Python loops and lists, and at doing *incremental code development*. Remember that a useful technique in incremental code development is the use of *print statements*, as a basis for checking at any point that the code is actually doing what we think it is doing. As discussed previously, we can use print statements to check many things about how a piece of code runs, e.g. 'how far' a program gets before crashing (i.e. generating a runtime error and exiting), whether variable values are as we'd expect them to be at a given stage, whether an **if-else** statement makes the 'choice' that we expect of it, *etc, etc*. \n",
    "\n",
    "<b><font size =\"5\">1) Finding patterns in data</font></b>\n",
    "\n",
    "Pulses of light are observed from a distant source in the galaxy. The pulses vary in intensity in a seemingly random fashion. Our aim is to find out if there is something more systematic to these variations. The file **pulse_data.txt** records relative intensity values from a large number (~100K) of observed pulses.\n",
    "\n",
    "<b><font size =\"4\">I) Initial data explorations</font></b>\n",
    "\n",
    "Begin by writing code to load the data, storing the values in a list, in the same order that they are found in the data file. If you have forgotten how to do this, refer back to **Sec. 4.1** of the previous notebook. Be sure that you are storing the actual numeric values, *not* just strings that *look like* those values.\n",
    "\n",
    "Next, just plot the values in order, to see if any simple pattern emerges. Refer to **Sec. 3** of the previous notebook for a reminder of Pylab's graph plotting functionality. For this plot, we will use the list of data values as the *$y$*-dimension values, and for the corresponding *$x$*-dimension, we could simply use a suitably-sized list of ascending integers (as might be produced using the **range** function). In fact, if you give the **plot** function just a *single* list of values, it will plot them in exactly this manner, i.e. as being *$y$*-dimension values that are plotted against their own position in the list. Inspect the resulting plot. I think you'll agree there's not much to see here but randomness.\n",
    "\n",
    "Now try putting the values into sorted order. Python will do the sorting for you, using the list **sort** method, e.g. for a list **x**, if we call **x.sort()** the list is sorted *in-place*, i.e. the variable **x** now stores the sorted variant of its initial list. Plot the sorted values and inspect the resulting plot. This plot is somewhat more informative than the last. We can see that the more extreme high and low values occupy quite narrow zones at the periphery of the plot, and *width* on this plot corresponds to the number of values plotted. This suggests that more extreme values are fairly rare, and more 'middling' values predominate."
   ]
  },
  {
   "cell_type": "code",
   "execution_count": null,
   "metadata": {
    "collapsed": true
   },
   "outputs": [],
   "source": [
    "# Insert your code for this task here\n",
    "# The .txt file is found in txt/notebook5 folder\n",
    "# Hint: can use subplot function of Pylab to have a single figure with multiple graphs"
   ]
  },
  {
   "cell_type": "markdown",
   "metadata": {},
   "source": [
    "<b><font size =\"4\">II) Data binning for histogram plotting</font></b>\n",
    "\n",
    "We next want to plot a *histogram* of the data. Histograms of real-valued numeric data usually work by sub-dividing the range across which the values lie into a number of *sub-regions*, which are identified by bounding values. For example, for values in the range from 0.0 to 9.0, we might set boundaries 3.0 and 6.0, and say that any value *$v$* < 3.0 belongs to region 0, any value v such that 3.0 <= *$v$* < 6.0 to region 1, and any value *$v$* >= 6.0 to region 2. These sub-regions are usually called *bins*, i.e. with values in a given sub-range being assigned to that bin, and with the histogram showing the count of items in the bins. Thus, value 1.0 belongs to Bin 0, value 4.0 to Bin 1.\n",
    "\n",
    "Let's look at another example in more detail, and consider how the *binning* process might be performed automatically. Assume we have the following data (here shown as a Python list):\n",
    "    \n",
    "    data = [4, 3, 5, 7.5, 3.8, 1.5]\n",
    "    \n",
    "We need first to determine the *range* across which the values lie. To do this, we must find the *minimum* and *maximum* values in the data, which here are 1.5 and 7.5. Thus, this range has a *span* of 6 units, i.e. 7.5 - 1.5. The value that lies *halfway* across this range is 4.5, since it is exactly 3 units (half of 6) past the minimum value 1.5, or equivalently we can say:\n",
    "\n",
    "    (4.5 - 1.5)/6 = 0.5\n",
    "\n",
    "To restate this more generally, and in Python, we could first compute the minimum and maximum values from the data. Python provides build-in functions **min** and **max** to get the min/max values from a list of numerics. Thus:\n",
    "\n",
    "    minval = min(data)\n",
    "    maxval = max(data)\n",
    "    \n",
    "All values therefore range between **minval** and **maxval**, across a span given by:\n",
    "\n",
    "    vspan = maxval - minval\n",
    "\n",
    "For any single value **value** from the data, its position across the value range, in *proportionate* terms is therefore:\n",
    "\n",
    "    (value - minval) / vspan\n",
    "    \n",
    "We can assign different sub-stretches of the value range to different bins (or different *bin ids*) as follows. First let **BINS** be an integer that we set to determine the number of bins. The bin id for a given value **value** is computed by determining how far across the value range it lies, as above, and then using this to select the appropriate bin id from the range **0. . .BINS**, which we can do by multiplying the two value together, and then rounding down to the nearest integer (which can be done with the Python **int** functions). Thus we get:\n",
    "\n",
    "    binid = int(BINS * (value - minval) / vspan)\n",
    "\n",
    "For example, for a value that lay one third **(0.333)** of the way across the value range, and with **BINS** set to 100, this would compute the bin id as **33**. With **BINS = 50**, however, we would instead get bin id **16**.\n",
    "\n",
    "The above method works quite well, but has the unfortunate characteristic that the only values assigned to the *final* bin (i.e. bin 50, when **BINS = 50**) must be the same as the maximum value, which is might be just a single value. This is typically *not* the behaviour we want, so we might *override* it by adding a step to spot when the assigned bin id is equal to **BINS**, in which case the bin id is reset to **BINS-1** (i.e. reassigning the maximum value in the data to this bin). This has the effect that we get only bin ids in the range **0. . .BINS-1**, and therefore that there are precisely **BINS** distinct bins allowed (as we originally intended).\n",
    "\n",
    "The fact that the bin ids here are integers in the range **0 to BINS-1** allows us to use a simple trick for storing the counts for each bin. This is to store the counts in a *list* of length **BINS**, and then to use a given bin identifier *i* as an *index* for the position in the list where that bin's counts are stored. The list must be initialised with zeros, one for each bin. Then, when we encounter a data value *d*, we can just compute its bin identifier and *increment* the count at that index in the list.\n",
    "\n",
    "For example, if we had only three bins, we could start with a list of zeros **[0,0,0]**. Seeing a value that belongs to bin 1, we could add one to this counter, giving **[0,1,0]**. If the next two values belonged to bin 0, we update the counts firstly to **[1,1,0]**, and then to **[2,1,0]**, and so on.\n",
    "\n",
    "Implement the above binning method and apply it to the data, with *B = 50* (or any other number you wish to try). Plot the counts produced (perhaps plotting as points rather than as a continuous line). Does this presentation of the data reveal anything about the underlying pattern of the variations in the data? Does this lead you to a particular hypothesis about the astronomical origins of the observed pulses?"
   ]
  },
  {
   "cell_type": "code",
   "execution_count": null,
   "metadata": {
    "collapsed": true
   },
   "outputs": [],
   "source": [
    "# Implement here the binning method "
   ]
  },
  {
   "cell_type": "markdown",
   "metadata": {},
   "source": [
    "<b><font size =\"4\">III) Other plotting options</font></b>\n",
    "\n",
    "You might prefer to plot your results as a bar chart proper, for which **pylab** provides the function **bar**, as in e.g.:\n",
    "    \n",
    "    bar(xvals,yvals)\n",
    "    \n",
    "This function requires both *$x$* and *$y$* value lists to be provided. Here, **yvals** would be your bin counts, whilst **xvals** might be a list of the bin id integers (although it could instead be a list of boundary values).\n",
    "\n",
    "Although the task from this notebook is a useful exercise, we note that Pylab will also produce histograms for you, using the **hist** function rather than **plot**. For example, if **data** is a list storing your data values, then we can ask Python to bin the data into 50 bins, and plot the resulting histogram, with just following single command:\n",
    "    \n",
    "    hist(data,50)"
   ]
  },
  {
   "cell_type": "code",
   "execution_count": null,
   "metadata": {
    "collapsed": true
   },
   "outputs": [],
   "source": [
    "# Insert your code here for plotting the data from previous task\n",
    "# Can experiment with different plotting methods and numbers for bins"
   ]
  }
 ],
 "metadata": {
  "kernelspec": {
   "display_name": "Python 3",
   "language": "python",
   "name": "python3"
  },
  "language_info": {
   "codemirror_mode": {
    "name": "ipython",
    "version": 3
   },
   "file_extension": ".py",
   "mimetype": "text/x-python",
   "name": "python",
   "nbconvert_exporter": "python",
   "pygments_lexer": "ipython3",
   "version": "3.5.1"
  }
 },
 "nbformat": 4,
 "nbformat_minor": 0
}
