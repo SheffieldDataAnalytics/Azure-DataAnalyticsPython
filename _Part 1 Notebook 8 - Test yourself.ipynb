{
 "cells": [
  {
   "cell_type": "markdown",
   "metadata": {},
   "source": [
    "<b><font size =\"6\">Test yourself!</font></b>"
   ]
  },
  {
   "cell_type": "markdown",
   "metadata": {},
   "source": [
    "<b><font size =\"5\">Exercises 8</font></b>\n",
    "\n",
    "Please recap all notes before attempting these exercises to remember all the concepts you have studied so far.\n",
    "\n",
    "The aim of this notebook is to give you an opportunity to get some more programming practice. This final set of exercises doesn't include any new ideas but let's you test yourself against what you've learned so far. If you're unsure about what to do then look at the notes and previous exercises."
   ]
  },
  {
   "cell_type": "markdown",
   "metadata": {},
   "source": [
    "<b><font size =\"4\">I) Exercise 1</font></b>\n",
    "\n",
    "Define a function **sum_of_reciprocals** which takes a single input, a positive integer N, and **returns** the *sum of the reciprocals* for values 1 to N (inclusive), i.e. the sum of values: $\\frac{1}{1} + \\frac{1}{2} + . . . + \\frac{1}{N}$. Thus, a function call **sum_of_reciprocals(2)** should return 1.5 as its result. \n",
    "\n",
    "Be careful to avoid *division-by-zero* errors (i.e. the smallest value divided into 1 should be 1, not 0!). Be careful to avoid integer division errors (i.e. where result is rounded down to an integer)."
   ]
  },
  {
   "cell_type": "code",
   "execution_count": null,
   "metadata": {
    "collapsed": true
   },
   "outputs": [],
   "source": [
    "# Insert your code for sum_of_reciprocals function and test it in this cell"
   ]
  },
  {
   "cell_type": "markdown",
   "metadata": {},
   "source": [
    "<b><font size =\"4\">II) Exercise 2</font></b>\n",
    "\n",
    "Define a function **add_numlists** which takes two inputs, both lists of numbers, and which behaves as follows. If the two lists have the *different* lengths, it returns **None**, and otherwise it returns a third list whose values are produced by adding together corresponding elements of the input lists, i.e. adding *first item to first item, second to second*, etc. Thus, with input lists **[3,1,5]** and **[2,6,4]**, the result returned should be **[5,7,9]** (equivalent to **[(3+2),(1+6),(5+4)]**)."
   ]
  },
  {
   "cell_type": "code",
   "execution_count": null,
   "metadata": {
    "collapsed": true
   },
   "outputs": [],
   "source": [
    "# Insert your code for add_numlists function and test it in this cell"
   ]
  },
  {
   "cell_type": "markdown",
   "metadata": {},
   "source": [
    "<b><font size =\"4\">Exercise 3</font></b>\n",
    "\n",
    "Define a function **pos_numlist** which takes a single parameter (a list of numbers) and which returns **True** if all the numbers are all positive (i.e. >= 0), and otherwise returns **False**. Thus, a call **pos_numlist([3,1,9])** should return **True**, whilst **pos_numlist([3,-1,9])** returns **False**."
   ]
  },
  {
   "cell_type": "code",
   "execution_count": null,
   "metadata": {
    "collapsed": true
   },
   "outputs": [],
   "source": [
    "# Insert your code for pos_numlist function and test it in this cell"
   ]
  },
  {
   "cell_type": "markdown",
   "metadata": {},
   "source": [
    "<b><font size =\"4\">Exercise 4</font></b>\n",
    "\n",
    "Two asteroids have been determined to be on a near collision course. Your task is to compute their positions over time and plot the *distance between them*. We can model their movements in just *two dimensions* (as they are travelling in the *same plane*). Their initial positions and velocities are as follows:\n",
    "\n",
    "   <table border=\"1\" style=\"width:auto\">\n",
    "      <tr>\n",
    "        <td><br></td>\n",
    "        <td>*position*</td>\n",
    "        <td>*velocity*</td>\n",
    "     </tr>\n",
    "     \n",
    "     <tr>\n",
    "         <td>Asteroid 1</td>\n",
    "         <td>(-150.4, 200.5)</td>\n",
    "         <td>(4.9, -7.1)</td>\n",
    "     </tr>\n",
    "     \n",
    "     <tr>\n",
    "         <td>Asteroid 2</td>\n",
    "         <td>(122.6, 64.0)</td>\n",
    "         <td>(-5.2, -2.95)</td>\n",
    "     </tr>     \n",
    "   </table>\n",
    "\n",
    "Thus, Asteroid 1 has initial position (-150.4; 200.5), relative to an origin (i.e. zero position) that has been chosen to be close to where the paths of the two asteroids will cross. The units here are unimportant (but each unit might correspond to 1000km, perhaps). The asteroid's velocity is (4.9; -7.1), given as *units per hour*, with separate components for *$x$* and *$y$* directions, i.e. it is moving at 4.9 units per hour in the *$x$* direction, and at -7.1 units per hour in the *$y$* direction.\n",
    "\n",
    "Your task is to compute the positions of the two asteroids at *one hour intervals* across a 50 hour period, and to plot the *distance between them against time*. (You are *not* asked to plot the positions of the asteroids themselves.) The distance *$d$* between positions *$(x1, y1)$* and *$(x2, y2)$* can be computed using Pythagoras' theorem, as *$d = \\sqrt{(x1 - x2)^2 + (y1 - y2)^2}$* (Note that a square root function **sqrt** is provided by **pylab**.) If correctly plotted, the graph should allow us to see how the distance at first decreases, and then increases once the asteroids have passed each other."
   ]
  },
  {
   "cell_type": "code",
   "execution_count": null,
   "metadata": {
    "collapsed": true
   },
   "outputs": [],
   "source": [
    "# Insert your code for the asteroid task here and test it in this cell"
   ]
  }
 ],
 "metadata": {
  "kernelspec": {
   "display_name": "Python 3",
   "language": "python",
   "name": "python3"
  },
  "language_info": {
   "codemirror_mode": {
    "name": "ipython",
    "version": 3
   },
   "file_extension": ".py",
   "mimetype": "text/x-python",
   "name": "python",
   "nbconvert_exporter": "python",
   "pygments_lexer": "ipython3",
   "version": "3.5.1"
  }
 },
 "nbformat": 4,
 "nbformat_minor": 0
}
